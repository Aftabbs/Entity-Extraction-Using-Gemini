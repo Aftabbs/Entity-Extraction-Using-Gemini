{
  "cells": [
    {
      "cell_type": "markdown",
      "metadata": {
        "id": "HUP7eCxvtblC"
      },
      "source": [
        "# Gemini API: Entity extraction\n",
        "\n",
        "Use Gemini API to speed up some of your tasks, such as searching through text to extract needed information. Entity extraction with a Gemini model is much faster effective and efficient."
      ]
    },
    {
      "cell_type": "code",
      "execution_count": null,
      "metadata": {
        "id": "esUtyazO2TU5"
      },
      "outputs": [],
      "source": [
        "!pip install -U -q google-generativeai"
      ]
    },
    {
      "cell_type": "code",
      "execution_count": null,
      "metadata": {
        "id": "4hDSLsOk2buH"
      },
      "outputs": [],
      "source": [
        "import google.generativeai as genai\n",
        "from IPython.display import Markdown"
      ]
    },
    {
      "cell_type": "code",
      "execution_count": null,
      "metadata": {
        "id": "uwbcbjun2gb3"
      },
      "outputs": [],
      "source": [
        "from google.colab import userdata\n",
        "GOOGLE_API_KEY=userdata.get('GOOGLE_API_KEY')\n",
        "\n",
        "genai.configure(api_key=GOOGLE_API_KEY)"
      ]
    },
    {
      "cell_type": "markdown",
      "metadata": {
        "id": "vV4RsTkJ2BAp"
      },
      "source": [
        "we will use Gemini 1.5 Flash model for fast responses."
      ]
    },
    {
      "cell_type": "code",
      "execution_count": null,
      "metadata": {
        "id": "pjMaGHKm2iUH"
      },
      "outputs": [],
      "source": [
        "model = genai.GenerativeModel('gemini-1.5-flash-latest')"
      ]
    },
    {
      "cell_type": "markdown",
      "metadata": {
        "id": "D14cShRh4DNl"
      },
      "source": [
        "### Extracting few entities at once\n"
      ]
    },
    {
      "cell_type": "code",
      "execution_count": null,
      "metadata": {
        "id": "Qc0w1Ylb7HQB"
      },
      "outputs": [],
      "source": [
        "directions = \"\"\"To reach the Colosseum from Rome's Fiumicino Airport (FCO), your options are diverse.\n",
        "Take the Leonardo Express train from FCO to Termini Station, then hop on metro line A towards Battistini and alight at Colosseo station.\n",
        "Alternatively, hop on a direct bus, like the Terravision shuttle, from FCO to Termini, then walk a short distance to the Colosseum on Via dei Fori Imperiali.\n",
        "If you prefer a taxi, simply hail one at the airport and ask to be taken to the Colosseum.\n",
        "The taxi will likely take you through Via del Corso and Via dei Fori Imperiali.\n",
        "A private transfer service offers a direct ride from FCO to the Colosseum, bypassing the hustle of public transport.\n",
        "If you're feeling adventurous, consider taking the train from FCO to Ostiense station,\n",
        "then walking through the charming Trastevere neighborhood, crossing Ponte Palatino to reach the Colosseum, passing by the Tiber River and Via della Lungara.\n",
        "Remember to validate your tickets on the metro and buses, and be mindful of pickpockets, especially in crowded areas.\n",
        "No matter which route you choose, you're sure to be awed by the grandeur of the Colosseum.\"\"\""
      ]
    },
    {
      "cell_type": "code",
      "execution_count": null,
      "metadata": {
        "id": "bxPfNhRi-JsW",
        "outputId": "7c592c2c-6f31-4ef2-d69e-42c0d352e42d"
      },
      "outputs": [
        {
          "data": {
            "text/markdown": [
              "```json\n",
              "{\n",
              "  \"Street\": [\n",
              "    \"Via dei Fori Imperiali\",\n",
              "    \"Via del Corso\",\n",
              "    \"Via della Lungara\"\n",
              "  ],\n",
              "  \"Transport\": [\n",
              "    \"train\",\n",
              "    \"metro\",\n",
              "    \"bus\",\n",
              "    \"Terravision shuttle\",\n",
              "    \"taxi\",\n",
              "    \"private transfer service\"\n",
              "  ]\n",
              "}\n",
              "```"
            ],
            "text/plain": [
              "<IPython.core.display.Markdown object>"
            ]
          },
          "execution_count": 7,
          "metadata": {},
          "output_type": "execute_result"
        }
      ],
      "source": [
        "directions_prompt = f\"\"\"\n",
        "  From the given text, extract the following entities and return a list of them.\n",
        "  Entities to extract: street name, form of transport.\n",
        "  Text: {directions}\n",
        "  Street = []\n",
        "  Transport = [] \"\"\"\n",
        "\n",
        "Markdown(model.generate_content(directions_prompt).text)"
      ]
    },
    {
      "cell_type": "code",
      "execution_count": null,
      "metadata": {
        "id": "DZdGgTsN5s6z",
        "outputId": "9dab2251-1201-4beb-b918-1856b3a1c269"
      },
      "outputs": [
        {
          "data": {
            "text/markdown": [
              "Here are the extracted entities:\n",
              "\n",
              "**Street:**\n",
              "- Via dei Fori Imperiali\n",
              "- Via del Corso\n",
              "- Via della Lungara \n",
              "\n",
              "**Transport:**\n",
              "- Train (Leonardo Express)\n",
              "- Metro (line A)\n",
              "- Bus (Terravision shuttle)\n",
              "- Taxi\n",
              "- Private transfer service \n"
            ],
            "text/plain": [
              "<IPython.core.display.Markdown object>"
            ]
          },
          "execution_count": 8,
          "metadata": {},
          "output_type": "execute_result"
        }
      ],
      "source": [
        "directions_list_prompt = f\"\"\"\n",
        "  From the given text, extract the following entities and return a list of them.\n",
        "  Entities to extract: street name, form of transport.\n",
        "  Text: {directions}\n",
        "  Return your answer as two lists:\n",
        "  Street = [street names]\n",
        "  Transport = [forms of transport]\"\"\"\n",
        "\n",
        "Markdown(model.generate_content(directions_list_prompt).text)"
      ]
    },
    {
      "cell_type": "markdown",
      "metadata": {
        "id": "4d7Om_vjuffj"
      },
      "source": [
        "### Numbers\n",
        "Extraction of phone numbers"
      ]
    },
    {
      "cell_type": "code",
      "execution_count": null,
      "metadata": {
        "id": "tkAi37jQoJFs"
      },
      "outputs": [],
      "source": [
        "customer_service_email = \"\"\"\n",
        "Hello,\n",
        "Thank you for reaching out to our customer support team regarding your recent purchase of our premium subscription service.\n",
        "We will send activation code to +87 668 098 344\n",
        "Additionally, if you require immediate assistance, feel free to contact us directly at +1 (800) 555-1234.\n",
        "Our team is available Monday through Friday from 9:00 AM to 5:00 PM PST.\n",
        "For after-hours support, please call our dedicated emergency line at +87 455 555 678.\n",
        "We appreciate your business and look forward to resolving any issues you may encounter promptly.\n",
        "Thank you.\"\"\""
      ]
    },
    {
      "cell_type": "code",
      "execution_count": null,
      "metadata": {
        "id": "J_cHeX-wwmeN",
        "outputId": "b0e78d7e-f4e5-4485-e7fb-7049581db760"
      },
      "outputs": [
        {
          "data": {
            "text/markdown": [
              "The phone numbers are:\n",
              "- +87 668 098 344\n",
              "- +1 (800) 555-1234\n",
              "- +87 455 555 678 \n"
            ],
            "text/plain": [
              "<IPython.core.display.Markdown object>"
            ]
          },
          "execution_count": 10,
          "metadata": {},
          "output_type": "execute_result"
        }
      ],
      "source": [
        "phone_prompt = f\"\"\"\n",
        "  From the given text, extract the following entities and return a list of them.\n",
        "  Entities to extract: phone numbers.\n",
        "  Text: {customer_service_email}\n",
        "  Return your answer in a list:\"\"\"\n",
        "\n",
        "Markdown(model.generate_content(phone_prompt).text)"
      ]
    },
    {
      "cell_type": "markdown",
      "metadata": {
        "id": "o_tNxJhQur-x"
      },
      "source": [
        "### URLs\n",
        "\n",
        "Entity Extraction of URLs and get response as a clickable link."
      ]
    },
    {
      "cell_type": "code",
      "execution_count": null,
      "metadata": {
        "id": "J1Ufx9qkxPfJ"
      },
      "outputs": [],
      "source": [
        "url_text = \"\"\"\n",
        "Gemini API billing FAQs\n",
        "\n",
        "This page provides answers to frequently asked questions about billing for the Gemini API. For pricing information, see the pricing page https://ai.google.dev/pricing.\n",
        "For legal terms, see the terms of service https://ai.google.dev/gemini-api/terms#paid-services.\n",
        "\n",
        "What am I billed for?\n",
        "Gemini API pricing is based on total token count, with different prices for input tokens and output tokens. For pricing information, see the pricing page https://ai.google.dev/pricing.\n",
        "\n",
        "Where can I view my quota?\n",
        "You can view your quota and system limits in the Google Cloud console https://console.cloud.google.com/apis/api/generativelanguage.googleapis.com/quotas.\n",
        "\n",
        "Is GetTokens billed?\n",
        "Requests to the GetTokens API are not billed, and they don't count against inference quota.\"\"\""
      ]
    },
    {
      "cell_type": "code",
      "execution_count": null,
      "metadata": {
        "id": "eaFWpN1IyOLW",
        "outputId": "00d37995-a903-4ae8-ac27-ba103197b87b"
      },
      "outputs": [
        {
          "data": {
            "text/markdown": [
              "- https://ai.google.dev/pricing\n",
              "- https://ai.google.dev/gemini-api/terms#paid-services\n",
              "- https://console.cloud.google.com/apis/api/generativelanguage.googleapis.com/quotas \n"
            ],
            "text/plain": [
              "<IPython.core.display.Markdown object>"
            ]
          },
          "execution_count": 12,
          "metadata": {},
          "output_type": "execute_result"
        }
      ],
      "source": [
        "url_prompt = f\"\"\"\n",
        "  From the given text, extract the following entities and return a list of them.\n",
        "  Entities to extract: URLs.\n",
        "  Text: {url_text}\n",
        "  Do not duplicate entities.\n",
        "  Return your answer in a markdown format:\"\"\"\n",
        "\n",
        "Markdown(model.generate_content(url_prompt).text)"
      ]
    }
  ],
  "metadata": {
    "colab": {
      "name": "Entity_Extraction.ipynb",
      "toc_visible": true,
      "provenance": []
    },
    "kernelspec": {
      "display_name": "Python 3",
      "name": "python3"
    }
  },
  "nbformat": 4,
  "nbformat_minor": 0
}